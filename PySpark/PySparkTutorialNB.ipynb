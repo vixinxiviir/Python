{
 "cells": [
  {
   "cell_type": "markdown",
   "id": "2aafc265",
   "metadata": {},
   "source": [
    "### Part 1: Setup"
   ]
  },
  {
   "cell_type": "code",
   "execution_count": 1,
   "id": "bfb56e9f",
   "metadata": {},
   "outputs": [],
   "source": [
    "import findspark"
   ]
  },
  {
   "cell_type": "code",
   "execution_count": 2,
   "id": "94add3f5",
   "metadata": {},
   "outputs": [],
   "source": [
    "findspark.find()\n",
    "findspark.init()"
   ]
  },
  {
   "cell_type": "code",
   "execution_count": 5,
   "id": "1bb7e3d6",
   "metadata": {
    "scrolled": true
   },
   "outputs": [],
   "source": [
    "import pyspark\n",
    "from pyspark.sql import SparkSession"
   ]
  },
  {
   "cell_type": "markdown",
   "id": "9d2b6a35",
   "metadata": {},
   "source": [
    "### Part 2: Starting the Session"
   ]
  },
  {
   "cell_type": "code",
   "execution_count": 4,
   "id": "e76821bc",
   "metadata": {},
   "outputs": [
    {
     "ename": "NameError",
     "evalue": "name 'SparkSession' is not defined",
     "output_type": "error",
     "traceback": [
      "\u001b[1;31m---------------------------------------------------------------------------\u001b[0m",
      "\u001b[1;31mNameError\u001b[0m                                 Traceback (most recent call last)",
      "\u001b[1;32mc:\\Users\\codyr.DESKTOP-7O5CCFF\\Documents\\PySpark Course\\PySparkTutorialNB.ipynb Cell 6\u001b[0m line \u001b[0;36m2\n\u001b[0;32m      <a href='vscode-notebook-cell:/c%3A/Users/codyr.DESKTOP-7O5CCFF/Documents/PySpark%20Course/PySparkTutorialNB.ipynb#W5sZmlsZQ%3D%3D?line=0'>1</a>\u001b[0m \u001b[39m# Start a Spark Session - this does require a number of environment variables to be set correctly: JAVA_HOME, SPARK_HOME, HADOOP_HOME\u001b[39;00m\n\u001b[1;32m----> <a href='vscode-notebook-cell:/c%3A/Users/codyr.DESKTOP-7O5CCFF/Documents/PySpark%20Course/PySparkTutorialNB.ipynb#W5sZmlsZQ%3D%3D?line=1'>2</a>\u001b[0m spark \u001b[39m=\u001b[39m SparkSession\u001b[39m.\u001b[39mbuilder\u001b[39m.\u001b[39mappName(\u001b[39m\"\u001b[39m\u001b[39mPractice Session\u001b[39m\u001b[39m\"\u001b[39m)\u001b[39m.\u001b[39mgetOrCreate()\n",
      "\u001b[1;31mNameError\u001b[0m: name 'SparkSession' is not defined"
     ]
    }
   ],
   "source": [
    "# Start a Spark Session - this does require a number of environment variables to be set correctly: JAVA_HOME, SPARK_HOME, HADOOP_HOME\n",
    "spark = SparkSession.builder.appName(\"Practice Session\").getOrCreate()"
   ]
  },
  {
   "cell_type": "code",
   "execution_count": 5,
   "id": "49c23fce",
   "metadata": {},
   "outputs": [
    {
     "data": {
      "text/html": [
       "\n",
       "            <div>\n",
       "                <p><b>SparkSession - in-memory</b></p>\n",
       "                \n",
       "        <div>\n",
       "            <p><b>SparkContext</b></p>\n",
       "\n",
       "            <p><a href=\"http://DESKTOP-7O5CCFF:4040\">Spark UI</a></p>\n",
       "\n",
       "            <dl>\n",
       "              <dt>Version</dt>\n",
       "                <dd><code>v3.5.0</code></dd>\n",
       "              <dt>Master</dt>\n",
       "                <dd><code>local[*]</code></dd>\n",
       "              <dt>AppName</dt>\n",
       "                <dd><code>Practice Session</code></dd>\n",
       "            </dl>\n",
       "        </div>\n",
       "        \n",
       "            </div>\n",
       "        "
      ],
      "text/plain": [
       "<pyspark.sql.session.SparkSession at 0x21f47f31f90>"
      ]
     },
     "execution_count": 5,
     "metadata": {},
     "output_type": "execute_result"
    }
   ],
   "source": [
    "# Check Spark session info\n",
    "spark"
   ]
  },
  {
   "cell_type": "code",
   "execution_count": 6,
   "id": "877f6251",
   "metadata": {},
   "outputs": [],
   "source": [
    "# Read in Spark Data. The option method allows us to import the csv with first row as column names\n",
    "dfSparkData = spark.read.csv(\"IronMan2023.csv\", header=True, inferSchema=True)"
   ]
  },
  {
   "cell_type": "code",
   "execution_count": 17,
   "id": "5a4d9bac",
   "metadata": {},
   "outputs": [
    {
     "name": "stdout",
     "output_type": "stream",
     "text": [
      "+----+------------------+-------------+-----------+------------+------+--------+------+-------------------+-------------------+-------------------+-------------------+------------------+------------------+-----------------+-------------------+-------------------+\n",
      "|Year|  Participant Name|Division Rank|Gender Rank|Overall Rank|   Bib|Division|Points|          Swim Time|          Bike Time|           Run Time|       Overall Time|Swim Division Rank|Bike Division Rank|Run Division Rank|            T1 Time|            T2 Time|\n",
      "+----+------------------+-------------+-----------+------------+------+--------+------+-------------------+-------------------+-------------------+-------------------+------------------+------------------+-----------------+-------------------+-------------------+\n",
      "|2023|       Sam Laidlow|            1|          1|           1|POINTS|       3|  MPRO|2023-10-01 00:47:50|2023-10-01 04:31:28|2023-10-01 02:41:46|2023-10-01 08:06:22|                 5|                 1|                1|2023-10-01 00:03:06|2023-10-01 00:02:12|\n",
      "|2023|     Patrick Lange|            2|          2|           2|POINTS|       2|  MPRO|2023-10-01 00:49:01|2023-10-01 04:43:24|2023-10-01 02:32:41|2023-10-01 08:10:17|                12|                 7|                2|2023-10-01 00:02:28|2023-10-01 00:02:42|\n",
      "|2023|     Magnus Ditlev|            3|          3|           3|POINTS|       7|  MPRO|2023-10-01 00:49:14|2023-10-01 04:35:54|2023-10-01 02:41:07|2023-10-01 08:11:43|                18|                 3|                3|2023-10-01 00:03:09|2023-10-01 00:02:19|\n",
      "|2023|     Rudy Von Berg|            4|          4|           4|POINTS|      11|  MPRO|2023-10-01 00:47:50|2023-10-01 04:37:23|2023-10-01 02:42:44|2023-10-01 08:12:57|                 6|                 2|                4|2023-10-01 00:02:27|2023-10-01 00:02:32|\n",
      "|2023|    Leon Chevalier|            5|          5|           5|POINTS|       6|  MPRO|2023-10-01 00:51:11|2023-10-01 04:39:30|2023-10-01 02:39:26|2023-10-01 08:15:07|                25|                 5|                5|2023-10-01 00:02:49|2023-10-01 00:02:11|\n",
      "|2023|    Arthur Horseau|            6|          6|           6|POINTS|      49|  MPRO|2023-10-01 00:53:19|2023-10-01 04:42:19|2023-10-01 02:37:17|2023-10-01 08:18:36|                29|                15|                6|2023-10-01 00:03:07|2023-10-01 00:02:34|\n",
      "|2023|     Bradley Weiss|            7|          7|           7|POINTS|      16|  MPRO|2023-10-01 00:47:55|2023-10-01 04:44:23|2023-10-01 02:43:22|2023-10-01 08:20:54|                10|                10|                7|2023-10-01 00:02:44|2023-10-01 00:02:31|\n",
      "|2023|   Gregory Barnaby|            8|          8|           8|POINTS|      19|  MPRO|2023-10-01 00:47:51|2023-10-01 04:44:23|2023-10-01 02:44:04|2023-10-01 08:21:15|                 7|                 8|                8|2023-10-01 00:02:42|2023-10-01 00:02:15|\n",
      "|2023|Robert Wilkowiecki|            9|          9|           9|POINTS|      27|  MPRO|2023-10-01 00:47:48|2023-10-01 04:44:36|2023-10-01 02:43:45|2023-10-01 08:21:23|                 4|                 9|                9|2023-10-01 00:02:35|2023-10-01 00:02:38|\n",
      "|2023|    Clement Mignon|           10|         10|          10|POINTS|       8|  MPRO|2023-10-01 00:47:59|2023-10-01 04:43:03|2023-10-01 02:47:55|2023-10-01 08:24:10|                11|                 6|               10|2023-10-01 00:02:33|2023-10-01 00:02:41|\n",
      "|2023| Matthew Marquardt|           11|         11|          11|POINTS|      46|  MPRO|2023-10-01 00:47:46|2023-10-01 04:49:11|2023-10-01 02:43:44|2023-10-01 08:26:17|                 1|                17|               11|2023-10-01 00:02:15|2023-10-01 00:03:21|\n",
      "|2023|   Arnaud Guilloux|           12|         12|          12|POINTS|      23|  MPRO|2023-10-01 00:49:57|2023-10-01 04:42:47|2023-10-01 02:50:39|2023-10-01 08:28:53|                21|                13|               12|2023-10-01 00:03:03|2023-10-01 00:02:28|\n",
      "|2023|     Benjamin Hill|           13|         13|          13|POINTS|      48|  MPRO|2023-10-01 00:53:11|2023-10-01 04:42:31|2023-10-01 02:48:39|2023-10-01 08:29:41|                28|                16|               13|2023-10-01 00:03:04|2023-10-01 00:02:17|\n",
      "|2023|      Cameron Wurf|           14|         14|          14|POINTS|      21|  MPRO|2023-10-01 00:51:07|2023-10-01 04:36:03|2023-10-01 02:58:40|2023-10-01 08:30:42|                23|                 4|               14|2023-10-01 00:02:31|2023-10-01 00:02:21|\n",
      "|2023|     Niek Heldoorn|           15|         15|          15|POINTS|      29|  MPRO|2023-10-01 00:47:53|2023-10-01 04:45:32|2023-10-01 02:54:27|2023-10-01 08:32:33|                 8|                12|               15|2023-10-01 00:02:09|2023-10-01 00:02:32|\n",
      "|2023|     Braden Currie|           16|         16|          16|POINTS|       9|  MPRO|2023-10-01 00:47:46|2023-10-01 04:46:37|2023-10-01 02:58:01|2023-10-01 08:38:50|                 2|                14|               16|2023-10-01 00:02:24|2023-10-01 00:04:03|\n",
      "|2023|  Mathias Petersen|           17|         17|          17|POINTS|      18|  MPRO|2023-10-01 00:47:54|2023-10-01 04:49:21|2023-10-01 02:57:28|2023-10-01 08:40:11|                 9|                18|               17|2023-10-01 00:02:51|2023-10-01 00:02:38|\n",
      "|2023|        Remi Conte|           18|         18|          18|POINTS|      50|  MPRO|2023-10-01 00:53:10|2023-10-01 04:56:18|2023-10-01 02:48:35|2023-10-01 08:43:38|                27|                26|               18|2023-10-01 00:02:27|2023-10-01 00:03:09|\n",
      "|2023|    Leonard Arnold|           19|         19|          19|POINTS|      34|  MPRO|2023-10-01 00:49:19|2023-10-01 04:54:19|2023-10-01 02:55:09|2023-10-01 08:44:44|                20|                21|               19|2023-10-01 00:02:51|2023-10-01 00:03:06|\n",
      "|2023|    Jonas Hoffmann|           20|         20|          20|POINTS|      30|  MPRO|2023-10-01 00:50:10|2023-10-01 04:58:57|2023-10-01 02:50:14|2023-10-01 08:44:54|                22|                25|               20|2023-10-01 00:02:46|2023-10-01 00:02:48|\n",
      "+----+------------------+-------------+-----------+------------+------+--------+------+-------------------+-------------------+-------------------+-------------------+------------------+------------------+-----------------+-------------------+-------------------+\n",
      "only showing top 20 rows\n",
      "\n",
      "+----+------------------+-------------+-----------+------------+------+--------+------+-------------------+-------------------+-------------------+-------------------+------------------+------------------+-----------------+-------------------+-------------------+\n",
      "|Year|  Participant Name|Division Rank|Gender Rank|Overall Rank|   Bib|Division|Points|          Swim Time|          Bike Time|           Run Time|       Overall Time|Swim Division Rank|Bike Division Rank|Run Division Rank|            T1 Time|            T2 Time|\n",
      "+----+------------------+-------------+-----------+------------+------+--------+------+-------------------+-------------------+-------------------+-------------------+------------------+------------------+-----------------+-------------------+-------------------+\n",
      "|2023|       Sam Laidlow|            1|          1|           1|POINTS|       3|  MPRO|2023-10-01 00:47:50|2023-10-01 04:31:28|2023-10-01 02:41:46|2023-10-01 08:06:22|                 5|                 1|                1|2023-10-01 00:03:06|2023-10-01 00:02:12|\n",
      "|2023|     Patrick Lange|            2|          2|           2|POINTS|       2|  MPRO|2023-10-01 00:49:01|2023-10-01 04:43:24|2023-10-01 02:32:41|2023-10-01 08:10:17|                12|                 7|                2|2023-10-01 00:02:28|2023-10-01 00:02:42|\n",
      "|2023|     Magnus Ditlev|            3|          3|           3|POINTS|       7|  MPRO|2023-10-01 00:49:14|2023-10-01 04:35:54|2023-10-01 02:41:07|2023-10-01 08:11:43|                18|                 3|                3|2023-10-01 00:03:09|2023-10-01 00:02:19|\n",
      "|2023|     Rudy Von Berg|            4|          4|           4|POINTS|      11|  MPRO|2023-10-01 00:47:50|2023-10-01 04:37:23|2023-10-01 02:42:44|2023-10-01 08:12:57|                 6|                 2|                4|2023-10-01 00:02:27|2023-10-01 00:02:32|\n",
      "|2023|    Leon Chevalier|            5|          5|           5|POINTS|       6|  MPRO|2023-10-01 00:51:11|2023-10-01 04:39:30|2023-10-01 02:39:26|2023-10-01 08:15:07|                25|                 5|                5|2023-10-01 00:02:49|2023-10-01 00:02:11|\n",
      "|2023|    Arthur Horseau|            6|          6|           6|POINTS|      49|  MPRO|2023-10-01 00:53:19|2023-10-01 04:42:19|2023-10-01 02:37:17|2023-10-01 08:18:36|                29|                15|                6|2023-10-01 00:03:07|2023-10-01 00:02:34|\n",
      "|2023|     Bradley Weiss|            7|          7|           7|POINTS|      16|  MPRO|2023-10-01 00:47:55|2023-10-01 04:44:23|2023-10-01 02:43:22|2023-10-01 08:20:54|                10|                10|                7|2023-10-01 00:02:44|2023-10-01 00:02:31|\n",
      "|2023|   Gregory Barnaby|            8|          8|           8|POINTS|      19|  MPRO|2023-10-01 00:47:51|2023-10-01 04:44:23|2023-10-01 02:44:04|2023-10-01 08:21:15|                 7|                 8|                8|2023-10-01 00:02:42|2023-10-01 00:02:15|\n",
      "|2023|Robert Wilkowiecki|            9|          9|           9|POINTS|      27|  MPRO|2023-10-01 00:47:48|2023-10-01 04:44:36|2023-10-01 02:43:45|2023-10-01 08:21:23|                 4|                 9|                9|2023-10-01 00:02:35|2023-10-01 00:02:38|\n",
      "|2023|    Clement Mignon|           10|         10|          10|POINTS|       8|  MPRO|2023-10-01 00:47:59|2023-10-01 04:43:03|2023-10-01 02:47:55|2023-10-01 08:24:10|                11|                 6|               10|2023-10-01 00:02:33|2023-10-01 00:02:41|\n",
      "|2023| Matthew Marquardt|           11|         11|          11|POINTS|      46|  MPRO|2023-10-01 00:47:46|2023-10-01 04:49:11|2023-10-01 02:43:44|2023-10-01 08:26:17|                 1|                17|               11|2023-10-01 00:02:15|2023-10-01 00:03:21|\n",
      "|2023|   Arnaud Guilloux|           12|         12|          12|POINTS|      23|  MPRO|2023-10-01 00:49:57|2023-10-01 04:42:47|2023-10-01 02:50:39|2023-10-01 08:28:53|                21|                13|               12|2023-10-01 00:03:03|2023-10-01 00:02:28|\n",
      "|2023|     Benjamin Hill|           13|         13|          13|POINTS|      48|  MPRO|2023-10-01 00:53:11|2023-10-01 04:42:31|2023-10-01 02:48:39|2023-10-01 08:29:41|                28|                16|               13|2023-10-01 00:03:04|2023-10-01 00:02:17|\n",
      "|2023|      Cameron Wurf|           14|         14|          14|POINTS|      21|  MPRO|2023-10-01 00:51:07|2023-10-01 04:36:03|2023-10-01 02:58:40|2023-10-01 08:30:42|                23|                 4|               14|2023-10-01 00:02:31|2023-10-01 00:02:21|\n",
      "|2023|     Niek Heldoorn|           15|         15|          15|POINTS|      29|  MPRO|2023-10-01 00:47:53|2023-10-01 04:45:32|2023-10-01 02:54:27|2023-10-01 08:32:33|                 8|                12|               15|2023-10-01 00:02:09|2023-10-01 00:02:32|\n",
      "|2023|     Braden Currie|           16|         16|          16|POINTS|       9|  MPRO|2023-10-01 00:47:46|2023-10-01 04:46:37|2023-10-01 02:58:01|2023-10-01 08:38:50|                 2|                14|               16|2023-10-01 00:02:24|2023-10-01 00:04:03|\n",
      "|2023|  Mathias Petersen|           17|         17|          17|POINTS|      18|  MPRO|2023-10-01 00:47:54|2023-10-01 04:49:21|2023-10-01 02:57:28|2023-10-01 08:40:11|                 9|                18|               17|2023-10-01 00:02:51|2023-10-01 00:02:38|\n",
      "|2023|        Remi Conte|           18|         18|          18|POINTS|      50|  MPRO|2023-10-01 00:53:10|2023-10-01 04:56:18|2023-10-01 02:48:35|2023-10-01 08:43:38|                27|                26|               18|2023-10-01 00:02:27|2023-10-01 00:03:09|\n",
      "|2023|    Leonard Arnold|           19|         19|          19|POINTS|      34|  MPRO|2023-10-01 00:49:19|2023-10-01 04:54:19|2023-10-01 02:55:09|2023-10-01 08:44:44|                20|                21|               19|2023-10-01 00:02:51|2023-10-01 00:03:06|\n",
      "|2023|    Jonas Hoffmann|           20|         20|          20|POINTS|      30|  MPRO|2023-10-01 00:50:10|2023-10-01 04:58:57|2023-10-01 02:50:14|2023-10-01 08:44:54|                22|                25|               20|2023-10-01 00:02:46|2023-10-01 00:02:48|\n",
      "+----+------------------+-------------+-----------+------------+------+--------+------+-------------------+-------------------+-------------------+-------------------+------------------+------------------+-----------------+-------------------+-------------------+\n",
      "only showing top 20 rows\n",
      "\n"
     ]
    }
   ],
   "source": [
    "# Gives a visual look at the data frame (2 Ways)\n",
    "dfSparkData.show()\n",
    "\n",
    "dfSparkData.createOrReplaceTempView('ironman')\n",
    "spark.sql(\"SELECT * FROM ironman\").show()"
   ]
  },
  {
   "cell_type": "markdown",
   "id": "63b7ed5c",
   "metadata": {},
   "source": [
    "### Part 3: Playing with the DataFrame"
   ]
  },
  {
   "cell_type": "code",
   "execution_count": 18,
   "id": "4213b07b",
   "metadata": {},
   "outputs": [
    {
     "name": "stdout",
     "output_type": "stream",
     "text": [
      "root\n",
      " |-- Year: integer (nullable = true)\n",
      " |-- Participant Name: string (nullable = true)\n",
      " |-- Division Rank: integer (nullable = true)\n",
      " |-- Gender Rank: integer (nullable = true)\n",
      " |-- Overall Rank: integer (nullable = true)\n",
      " |-- Bib: string (nullable = true)\n",
      " |-- Division: string (nullable = true)\n",
      " |-- Points: string (nullable = true)\n",
      " |-- Swim Time: timestamp (nullable = true)\n",
      " |-- Bike Time: timestamp (nullable = true)\n",
      " |-- Run Time: timestamp (nullable = true)\n",
      " |-- Overall Time: timestamp (nullable = true)\n",
      " |-- Swim Division Rank: integer (nullable = true)\n",
      " |-- Bike Division Rank: integer (nullable = true)\n",
      " |-- Run Division Rank: integer (nullable = true)\n",
      " |-- T1 Time: timestamp (nullable = true)\n",
      " |-- T2 Time: timestamp (nullable = true)\n",
      "\n"
     ]
    }
   ],
   "source": [
    "# Shows us the data frame's schema\n",
    "dfSparkData.printSchema()"
   ]
  },
  {
   "cell_type": "code",
   "execution_count": 19,
   "id": "cfe0476d",
   "metadata": {},
   "outputs": [
    {
     "data": {
      "text/plain": [
       "pyspark.sql.dataframe.DataFrame"
      ]
     },
     "execution_count": 19,
     "metadata": {},
     "output_type": "execute_result"
    }
   ],
   "source": [
    "# Check specific data frame type\n",
    "type(dfSparkData)"
   ]
  },
  {
   "cell_type": "code",
   "execution_count": 31,
   "id": "238276b3",
   "metadata": {},
   "outputs": [
    {
     "data": {
      "text/plain": [
       "['Year',\n",
       " 'Participant Name',\n",
       " 'Division Rank',\n",
       " 'Gender Rank',\n",
       " 'Overall Rank',\n",
       " 'Bib',\n",
       " 'Division',\n",
       " 'Points',\n",
       " 'Swim Time',\n",
       " 'Bike Time',\n",
       " 'Run Time',\n",
       " 'Overall Time',\n",
       " 'Swim Division Rank',\n",
       " 'Bike Division Rank',\n",
       " 'Run Division Rank',\n",
       " 'T1 Time',\n",
       " 'T2 Time']"
      ]
     },
     "execution_count": 31,
     "metadata": {},
     "output_type": "execute_result"
    }
   ],
   "source": [
    "# Display columns\n",
    "dfSparkData.columns"
   ]
  },
  {
   "cell_type": "code",
   "execution_count": 21,
   "id": "76809b1b",
   "metadata": {},
   "outputs": [
    {
     "name": "stdout",
     "output_type": "stream",
     "text": [
      "+------------------+------------+\n",
      "|  Participant Name|Overall Rank|\n",
      "+------------------+------------+\n",
      "|       Sam Laidlow|           1|\n",
      "|     Patrick Lange|           2|\n",
      "|     Magnus Ditlev|           3|\n",
      "|     Rudy Von Berg|           4|\n",
      "|    Leon Chevalier|           5|\n",
      "|    Arthur Horseau|           6|\n",
      "|     Bradley Weiss|           7|\n",
      "|   Gregory Barnaby|           8|\n",
      "|Robert Wilkowiecki|           9|\n",
      "|    Clement Mignon|          10|\n",
      "| Matthew Marquardt|          11|\n",
      "|   Arnaud Guilloux|          12|\n",
      "|     Benjamin Hill|          13|\n",
      "|      Cameron Wurf|          14|\n",
      "|     Niek Heldoorn|          15|\n",
      "|     Braden Currie|          16|\n",
      "|  Mathias Petersen|          17|\n",
      "|        Remi Conte|          18|\n",
      "|    Leonard Arnold|          19|\n",
      "|    Jonas Hoffmann|          20|\n",
      "+------------------+------------+\n",
      "only showing top 20 rows\n",
      "\n"
     ]
    }
   ],
   "source": [
    "# How to select columns to use with other methods. Can feed a single value or a list\n",
    "dfSparkData.select(['Participant Name', 'Overall Rank']).show()"
   ]
  },
  {
   "cell_type": "code",
   "execution_count": 13,
   "id": "f7608767",
   "metadata": {
    "scrolled": true
   },
   "outputs": [
    {
     "name": "stdout",
     "output_type": "stream",
     "text": [
      "[Row(Year=2023, Participant Name='Sam Laidlow', Division Rank=1, Gender Rank=1, Overall Rank=1, Bib='POINTS', Division='3', Points='MPRO', Swim Time=datetime.datetime(2023, 9, 30, 0, 47, 50), Bike Time=datetime.datetime(2023, 9, 30, 4, 31, 28), Run Time=datetime.datetime(2023, 9, 30, 2, 41, 46), Overall Time=datetime.datetime(2023, 9, 30, 8, 6, 22), Swim Division Rank=5, Bike Division Rank=1, Run Division Rank=1, T1 Time=datetime.datetime(2023, 9, 30, 0, 3, 6), T2 Time=datetime.datetime(2023, 9, 30, 0, 2, 12))]\n"
     ]
    }
   ],
   "source": [
    "# If you want to save the results of a query, use .collect() instead of .show()\n",
    "result = dfSparkData.filter(dfSparkData['Participant Name'] == \"Sam Laidlow\").collect()\n",
    "print(result)"
   ]
  },
  {
   "cell_type": "code",
   "execution_count": 22,
   "id": "9d4bd974",
   "metadata": {},
   "outputs": [
    {
     "data": {
      "text/plain": [
       "{'Year': 2023,\n",
       " 'Participant Name': 'Sam Laidlow',\n",
       " 'Division Rank': 1,\n",
       " 'Gender Rank': 1,\n",
       " 'Overall Rank': 1,\n",
       " 'Bib': 'POINTS',\n",
       " 'Division': '3',\n",
       " 'Points': 'MPRO',\n",
       " 'Swim Time': datetime.datetime(2023, 9, 30, 0, 47, 50),\n",
       " 'Bike Time': datetime.datetime(2023, 9, 30, 4, 31, 28),\n",
       " 'Run Time': datetime.datetime(2023, 9, 30, 2, 41, 46),\n",
       " 'Overall Time': datetime.datetime(2023, 9, 30, 8, 6, 22),\n",
       " 'Swim Division Rank': 5,\n",
       " 'Bike Division Rank': 1,\n",
       " 'Run Division Rank': 1,\n",
       " 'T1 Time': datetime.datetime(2023, 9, 30, 0, 3, 6),\n",
       " 'T2 Time': datetime.datetime(2023, 9, 30, 0, 2, 12)}"
      ]
     },
     "execution_count": 22,
     "metadata": {},
     "output_type": "execute_result"
    }
   ],
   "source": [
    "# Can further save results of Row objects as dictionaries to make accessing them easier\n",
    "rowObject = result[0]\n",
    "rowObject.asDict()\n"
   ]
  },
  {
   "cell_type": "code",
   "execution_count": 39,
   "id": "4d11bb77",
   "metadata": {},
   "outputs": [
    {
     "name": "stdout",
     "output_type": "stream",
     "text": [
      "+-------+------+----------------+------------------+-----------------+-----------------+--------+------------------+------+---------+---------+--------+------------+------------------+------------------+------------------+--------+--------+\n",
      "|summary|  Year|Participant Name|     Division Rank|      Gender Rank|     Overall Rank|     Bib|          Division|Points|Swim Time|Bike Time|Run Time|Overall Time|Swim Division Rank|Bike Division Rank| Run Division Rank| T1 Time| T2 Time|\n",
      "+-------+------+----------------+------------------+-----------------+-----------------+--------+------------------+------+---------+---------+--------+------------+------------------+------------------+------------------+--------+--------+\n",
      "|  count|  1950|            1950|              1950|             1950|             1950|    1950|              1950|  1950|     1950|     1950|    1950|        1950|              1950|              1950|              1950|    1950|    1950|\n",
      "|   mean|2023.0|            null|117.92820512820512|            975.5|            975.5|    null|1242.3145202668036|  null|     null|     null|    null|        null|170.34974358974358|118.12051282051281|117.92820512820512|    null|    null|\n",
      "| stddev|   0.0|            null| 81.89471255798715|563.0608315271095|563.0608315271095|    null| 671.9171131012929|  null|     null|     null|    null|        null|2263.3487419515413| 82.11290291285141| 81.89471255798715|    null|    null|\n",
      "|    min|  2023|   Aaron Conings|                 1|                1|                1|DIVISION|                 1|    HC| 00:00:00| 00:00:00| 2:06:12|    10:00:12|                 1|                 1|                 1|00:00:00|00:02:11|\n",
      "|    max|  2023|   Zsolt Szunyog|                99|              999|              999|  POINTS|           COUNTRY|POINTS|  2:11:25|  9:07:55| 7:12:28|     9:59:47|             99999|                99|                99|00:52:19|00:39:48|\n",
      "+-------+------+----------------+------------------+-----------------+-----------------+--------+------------------+------+---------+---------+--------+------------+------------------+------------------+------------------+--------+--------+\n",
      "\n"
     ]
    }
   ],
   "source": [
    "# Describe the Data\n",
    "dfSparkData.describe().show()"
   ]
  },
  {
   "cell_type": "code",
   "execution_count": 45,
   "id": "f6358e7b",
   "metadata": {},
   "outputs": [],
   "source": [
    "# Add columns. Give it a column name and a condition. Does require assignment to save results of the add\n",
    "dfSparkData = dfSparkData.withColumn('Even Rank', dfSparkData['Overall Rank'] % 2 == 0)"
   ]
  },
  {
   "cell_type": "code",
   "execution_count": 50,
   "id": "05c03895",
   "metadata": {},
   "outputs": [],
   "source": [
    "# Dropping columns\n",
    "dfSparkData = dfSparkData.drop('Even Rank')"
   ]
  },
  {
   "cell_type": "code",
   "execution_count": 53,
   "id": "83f0b114",
   "metadata": {},
   "outputs": [],
   "source": [
    "# Renaming Columns\n",
    "dfSparkData = dfSparkData.withColumnRenamed('Points?', 'Bib')"
   ]
  },
  {
   "cell_type": "markdown",
   "id": "6a5fb8f5",
   "metadata": {},
   "source": [
    "### Part 4: Cleaning the Data"
   ]
  },
  {
   "cell_type": "code",
   "execution_count": 57,
   "id": "93fdaea0",
   "metadata": {},
   "outputs": [
    {
     "data": {
      "text/plain": [
       "DataFrame[Year: string, Participant Name: string, Division Rank: string, Gender Rank: string, Overall Rank: string, Bib: string, Division: string, Points: string, Swim Time: string, Bike Time: string, Run Time: string, Overall Time: string, Swim Division Rank: string, Bike Division Rank: string, Run Division Rank: string, T1 Time: string, T2 Time: string]"
      ]
     },
     "execution_count": 57,
     "metadata": {},
     "output_type": "execute_result"
    }
   ],
   "source": [
    "# Drop rows with Null Values. Optional arguments: How, Threshold, Subset\n",
    "dfSparkData.na.drop()"
   ]
  },
  {
   "cell_type": "code",
   "execution_count": 59,
   "id": "4fc1b48a",
   "metadata": {},
   "outputs": [
    {
     "data": {
      "text/plain": [
       "DataFrame[Year: string, Participant Name: string, Division Rank: string, Gender Rank: string, Overall Rank: string, Bib: string, Division: string, Points: string, Swim Time: string, Bike Time: string, Run Time: string, Overall Time: string, Swim Division Rank: string, Bike Division Rank: string, Run Division Rank: string, T1 Time: string, T2 Time: string]"
      ]
     },
     "execution_count": 59,
     "metadata": {},
     "output_type": "execute_result"
    }
   ],
   "source": [
    "# Fill in missing values. Arguments: Value, Subset\n",
    "dfSparkData.na.fill('Missing Value')"
   ]
  },
  {
   "cell_type": "code",
   "execution_count": 23,
   "id": "c7d9a191",
   "metadata": {},
   "outputs": [
    {
     "name": "stdout",
     "output_type": "stream",
     "text": [
      "+----+------------------+-------------+-----------+------------+------+--------+------+-------------------+-------------------+-------------------+-------------------+------------------+------------------+-----------------+-------------------+-------------------+--------------------+---------------------+-------------------+\n",
      "|Year|  Participant Name|Division Rank|Gender Rank|Overall Rank|   Bib|Division|Points|          Swim Time|          Bike Time|           Run Time|       Overall Time|Swim Division Rank|Bike Division Rank|Run Division Rank|            T1 Time|            T2 Time|Overall Rank_imputed|Division Rank_imputed|Gender Rank_imputed|\n",
      "+----+------------------+-------------+-----------+------------+------+--------+------+-------------------+-------------------+-------------------+-------------------+------------------+------------------+-----------------+-------------------+-------------------+--------------------+---------------------+-------------------+\n",
      "|2023|       Sam Laidlow|            1|          1|           1|POINTS|       3|  MPRO|2023-09-30 00:47:50|2023-09-30 04:31:28|2023-09-30 02:41:46|2023-09-30 08:06:22|                 5|                 1|                1|2023-09-30 00:03:06|2023-09-30 00:02:12|                   1|                    1|                  1|\n",
      "|2023|     Patrick Lange|            2|          2|           2|POINTS|       2|  MPRO|2023-09-30 00:49:01|2023-09-30 04:43:24|2023-09-30 02:32:41|2023-09-30 08:10:17|                12|                 7|                2|2023-09-30 00:02:28|2023-09-30 00:02:42|                   2|                    2|                  2|\n",
      "|2023|     Magnus Ditlev|            3|          3|           3|POINTS|       7|  MPRO|2023-09-30 00:49:14|2023-09-30 04:35:54|2023-09-30 02:41:07|2023-09-30 08:11:43|                18|                 3|                3|2023-09-30 00:03:09|2023-09-30 00:02:19|                   3|                    3|                  3|\n",
      "|2023|     Rudy Von Berg|            4|          4|           4|POINTS|      11|  MPRO|2023-09-30 00:47:50|2023-09-30 04:37:23|2023-09-30 02:42:44|2023-09-30 08:12:57|                 6|                 2|                4|2023-09-30 00:02:27|2023-09-30 00:02:32|                   4|                    4|                  4|\n",
      "|2023|    Leon Chevalier|            5|          5|           5|POINTS|       6|  MPRO|2023-09-30 00:51:11|2023-09-30 04:39:30|2023-09-30 02:39:26|2023-09-30 08:15:07|                25|                 5|                5|2023-09-30 00:02:49|2023-09-30 00:02:11|                   5|                    5|                  5|\n",
      "|2023|    Arthur Horseau|            6|          6|           6|POINTS|      49|  MPRO|2023-09-30 00:53:19|2023-09-30 04:42:19|2023-09-30 02:37:17|2023-09-30 08:18:36|                29|                15|                6|2023-09-30 00:03:07|2023-09-30 00:02:34|                   6|                    6|                  6|\n",
      "|2023|     Bradley Weiss|            7|          7|           7|POINTS|      16|  MPRO|2023-09-30 00:47:55|2023-09-30 04:44:23|2023-09-30 02:43:22|2023-09-30 08:20:54|                10|                10|                7|2023-09-30 00:02:44|2023-09-30 00:02:31|                   7|                    7|                  7|\n",
      "|2023|   Gregory Barnaby|            8|          8|           8|POINTS|      19|  MPRO|2023-09-30 00:47:51|2023-09-30 04:44:23|2023-09-30 02:44:04|2023-09-30 08:21:15|                 7|                 8|                8|2023-09-30 00:02:42|2023-09-30 00:02:15|                   8|                    8|                  8|\n",
      "|2023|Robert Wilkowiecki|            9|          9|           9|POINTS|      27|  MPRO|2023-09-30 00:47:48|2023-09-30 04:44:36|2023-09-30 02:43:45|2023-09-30 08:21:23|                 4|                 9|                9|2023-09-30 00:02:35|2023-09-30 00:02:38|                   9|                    9|                  9|\n",
      "|2023|    Clement Mignon|           10|         10|          10|POINTS|       8|  MPRO|2023-09-30 00:47:59|2023-09-30 04:43:03|2023-09-30 02:47:55|2023-09-30 08:24:10|                11|                 6|               10|2023-09-30 00:02:33|2023-09-30 00:02:41|                  10|                   10|                 10|\n",
      "|2023| Matthew Marquardt|           11|         11|          11|POINTS|      46|  MPRO|2023-09-30 00:47:46|2023-09-30 04:49:11|2023-09-30 02:43:44|2023-09-30 08:26:17|                 1|                17|               11|2023-09-30 00:02:15|2023-09-30 00:03:21|                  11|                   11|                 11|\n",
      "|2023|   Arnaud Guilloux|           12|         12|          12|POINTS|      23|  MPRO|2023-09-30 00:49:57|2023-09-30 04:42:47|2023-09-30 02:50:39|2023-09-30 08:28:53|                21|                13|               12|2023-09-30 00:03:03|2023-09-30 00:02:28|                  12|                   12|                 12|\n",
      "|2023|     Benjamin Hill|           13|         13|          13|POINTS|      48|  MPRO|2023-09-30 00:53:11|2023-09-30 04:42:31|2023-09-30 02:48:39|2023-09-30 08:29:41|                28|                16|               13|2023-09-30 00:03:04|2023-09-30 00:02:17|                  13|                   13|                 13|\n",
      "|2023|      Cameron Wurf|           14|         14|          14|POINTS|      21|  MPRO|2023-09-30 00:51:07|2023-09-30 04:36:03|2023-09-30 02:58:40|2023-09-30 08:30:42|                23|                 4|               14|2023-09-30 00:02:31|2023-09-30 00:02:21|                  14|                   14|                 14|\n",
      "|2023|     Niek Heldoorn|           15|         15|          15|POINTS|      29|  MPRO|2023-09-30 00:47:53|2023-09-30 04:45:32|2023-09-30 02:54:27|2023-09-30 08:32:33|                 8|                12|               15|2023-09-30 00:02:09|2023-09-30 00:02:32|                  15|                   15|                 15|\n",
      "|2023|     Braden Currie|           16|         16|          16|POINTS|       9|  MPRO|2023-09-30 00:47:46|2023-09-30 04:46:37|2023-09-30 02:58:01|2023-09-30 08:38:50|                 2|                14|               16|2023-09-30 00:02:24|2023-09-30 00:04:03|                  16|                   16|                 16|\n",
      "|2023|  Mathias Petersen|           17|         17|          17|POINTS|      18|  MPRO|2023-09-30 00:47:54|2023-09-30 04:49:21|2023-09-30 02:57:28|2023-09-30 08:40:11|                 9|                18|               17|2023-09-30 00:02:51|2023-09-30 00:02:38|                  17|                   17|                 17|\n",
      "|2023|        Remi Conte|           18|         18|          18|POINTS|      50|  MPRO|2023-09-30 00:53:10|2023-09-30 04:56:18|2023-09-30 02:48:35|2023-09-30 08:43:38|                27|                26|               18|2023-09-30 00:02:27|2023-09-30 00:03:09|                  18|                   18|                 18|\n",
      "|2023|    Leonard Arnold|           19|         19|          19|POINTS|      34|  MPRO|2023-09-30 00:49:19|2023-09-30 04:54:19|2023-09-30 02:55:09|2023-09-30 08:44:44|                20|                21|               19|2023-09-30 00:02:51|2023-09-30 00:03:06|                  19|                   19|                 19|\n",
      "|2023|    Jonas Hoffmann|           20|         20|          20|POINTS|      30|  MPRO|2023-09-30 00:50:10|2023-09-30 04:58:57|2023-09-30 02:50:14|2023-09-30 08:44:54|                22|                25|               20|2023-09-30 00:02:46|2023-09-30 00:02:48|                  20|                   20|                 20|\n",
      "+----+------------------+-------------+-----------+------------+------+--------+------+-------------------+-------------------+-------------------+-------------------+------------------+------------------+-----------------+-------------------+-------------------+--------------------+---------------------+-------------------+\n",
      "only showing top 20 rows\n",
      "\n"
     ]
    }
   ],
   "source": [
    "# Possible other way to fill in missing values: an imputer function. Imputed columns must be numeric. Imputer is a machine\n",
    "# learning library in PySpark that can impute missing values based off some rule\n",
    "from pyspark.ml.feature import Imputer\n",
    "\n",
    "imputer = Imputer(inputCols=[\"Overall Rank\", \"Division Rank\", \"Gender Rank\"], \n",
    "                  outputCols=[\"{}_imputed\".format(c) \n",
    "                              for c in [\"Overall Rank\", \"Division Rank\", \"Gender Rank\"]]).setStrategy(\"mean\")\n",
    "imputer.fit(dfSparkData).transform(dfSparkData).show()"
   ]
  },
  {
   "cell_type": "markdown",
   "id": "9e158a4c",
   "metadata": {},
   "source": [
    "### Part 5: Filtering Operations"
   ]
  },
  {
   "cell_type": "code",
   "execution_count": 71,
   "id": "9bd88dc0",
   "metadata": {},
   "outputs": [
    {
     "name": "stdout",
     "output_type": "stream",
     "text": [
      "+----+------------------+-------------+-----------+------------+------+--------+------+-------------------+-------------------+-------------------+-------------------+------------------+------------------+-----------------+-------------------+-------------------+\n",
      "|Year|  Participant Name|Division Rank|Gender Rank|Overall Rank|   Bib|Division|Points|          Swim Time|          Bike Time|           Run Time|       Overall Time|Swim Division Rank|Bike Division Rank|Run Division Rank|            T1 Time|            T2 Time|\n",
      "+----+------------------+-------------+-----------+------------+------+--------+------+-------------------+-------------------+-------------------+-------------------+------------------+------------------+-----------------+-------------------+-------------------+\n",
      "|2023|       Sam Laidlow|            1|          1|           1|POINTS|       3|  MPRO|2023-09-26 00:47:50|2023-09-26 04:31:28|2023-09-26 02:41:46|2023-09-26 08:06:22|                 5|                 1|                1|2023-09-26 00:03:06|2023-09-26 00:02:12|\n",
      "|2023|     Patrick Lange|            2|          2|           2|POINTS|       2|  MPRO|2023-09-26 00:49:01|2023-09-26 04:43:24|2023-09-26 02:32:41|2023-09-26 08:10:17|                12|                 7|                2|2023-09-26 00:02:28|2023-09-26 00:02:42|\n",
      "|2023|     Magnus Ditlev|            3|          3|           3|POINTS|       7|  MPRO|2023-09-26 00:49:14|2023-09-26 04:35:54|2023-09-26 02:41:07|2023-09-26 08:11:43|                18|                 3|                3|2023-09-26 00:03:09|2023-09-26 00:02:19|\n",
      "|2023|     Rudy Von Berg|            4|          4|           4|POINTS|      11|  MPRO|2023-09-26 00:47:50|2023-09-26 04:37:23|2023-09-26 02:42:44|2023-09-26 08:12:57|                 6|                 2|                4|2023-09-26 00:02:27|2023-09-26 00:02:32|\n",
      "|2023|    Leon Chevalier|            5|          5|           5|POINTS|       6|  MPRO|2023-09-26 00:51:11|2023-09-26 04:39:30|2023-09-26 02:39:26|2023-09-26 08:15:07|                25|                 5|                5|2023-09-26 00:02:49|2023-09-26 00:02:11|\n",
      "|2023|    Arthur Horseau|            6|          6|           6|POINTS|      49|  MPRO|2023-09-26 00:53:19|2023-09-26 04:42:19|2023-09-26 02:37:17|2023-09-26 08:18:36|                29|                15|                6|2023-09-26 00:03:07|2023-09-26 00:02:34|\n",
      "|2023|     Bradley Weiss|            7|          7|           7|POINTS|      16|  MPRO|2023-09-26 00:47:55|2023-09-26 04:44:23|2023-09-26 02:43:22|2023-09-26 08:20:54|                10|                10|                7|2023-09-26 00:02:44|2023-09-26 00:02:31|\n",
      "|2023|   Gregory Barnaby|            8|          8|           8|POINTS|      19|  MPRO|2023-09-26 00:47:51|2023-09-26 04:44:23|2023-09-26 02:44:04|2023-09-26 08:21:15|                 7|                 8|                8|2023-09-26 00:02:42|2023-09-26 00:02:15|\n",
      "|2023|Robert Wilkowiecki|            9|          9|           9|POINTS|      27|  MPRO|2023-09-26 00:47:48|2023-09-26 04:44:36|2023-09-26 02:43:45|2023-09-26 08:21:23|                 4|                 9|                9|2023-09-26 00:02:35|2023-09-26 00:02:38|\n",
      "|2023|    Clement Mignon|           10|         10|          10|POINTS|       8|  MPRO|2023-09-26 00:47:59|2023-09-26 04:43:03|2023-09-26 02:47:55|2023-09-26 08:24:10|                11|                 6|               10|2023-09-26 00:02:33|2023-09-26 00:02:41|\n",
      "|2023| Matthew Marquardt|           11|         11|          11|POINTS|      46|  MPRO|2023-09-26 00:47:46|2023-09-26 04:49:11|2023-09-26 02:43:44|2023-09-26 08:26:17|                 1|                17|               11|2023-09-26 00:02:15|2023-09-26 00:03:21|\n",
      "|2023|   Arnaud Guilloux|           12|         12|          12|POINTS|      23|  MPRO|2023-09-26 00:49:57|2023-09-26 04:42:47|2023-09-26 02:50:39|2023-09-26 08:28:53|                21|                13|               12|2023-09-26 00:03:03|2023-09-26 00:02:28|\n",
      "|2023|     Benjamin Hill|           13|         13|          13|POINTS|      48|  MPRO|2023-09-26 00:53:11|2023-09-26 04:42:31|2023-09-26 02:48:39|2023-09-26 08:29:41|                28|                16|               13|2023-09-26 00:03:04|2023-09-26 00:02:17|\n",
      "|2023|      Cameron Wurf|           14|         14|          14|POINTS|      21|  MPRO|2023-09-26 00:51:07|2023-09-26 04:36:03|2023-09-26 02:58:40|2023-09-26 08:30:42|                23|                 4|               14|2023-09-26 00:02:31|2023-09-26 00:02:21|\n",
      "|2023|     Niek Heldoorn|           15|         15|          15|POINTS|      29|  MPRO|2023-09-26 00:47:53|2023-09-26 04:45:32|2023-09-26 02:54:27|2023-09-26 08:32:33|                 8|                12|               15|2023-09-26 00:02:09|2023-09-26 00:02:32|\n",
      "|2023|     Braden Currie|           16|         16|          16|POINTS|       9|  MPRO|2023-09-26 00:47:46|2023-09-26 04:46:37|2023-09-26 02:58:01|2023-09-26 08:38:50|                 2|                14|               16|2023-09-26 00:02:24|2023-09-26 00:04:03|\n",
      "|2023|  Mathias Petersen|           17|         17|          17|POINTS|      18|  MPRO|2023-09-26 00:47:54|2023-09-26 04:49:21|2023-09-26 02:57:28|2023-09-26 08:40:11|                 9|                18|               17|2023-09-26 00:02:51|2023-09-26 00:02:38|\n",
      "|2023|        Remi Conte|           18|         18|          18|POINTS|      50|  MPRO|2023-09-26 00:53:10|2023-09-26 04:56:18|2023-09-26 02:48:35|2023-09-26 08:43:38|                27|                26|               18|2023-09-26 00:02:27|2023-09-26 00:03:09|\n",
      "|2023|    Leonard Arnold|           19|         19|          19|POINTS|      34|  MPRO|2023-09-26 00:49:19|2023-09-26 04:54:19|2023-09-26 02:55:09|2023-09-26 08:44:44|                20|                21|               19|2023-09-26 00:02:51|2023-09-26 00:03:06|\n",
      "|2023|    Jonas Hoffmann|           20|         20|          20|POINTS|      30|  MPRO|2023-09-26 00:50:10|2023-09-26 04:58:57|2023-09-26 02:50:14|2023-09-26 08:44:54|                22|                25|               20|2023-09-26 00:02:46|2023-09-26 00:02:48|\n",
      "+----+------------------+-------------+-----------+------------+------+--------+------+-------------------+-------------------+-------------------+-------------------+------------------+------------------+-----------------+-------------------+-------------------+\n",
      "only showing top 20 rows\n",
      "\n",
      "+----+----------------+-------------+-----------+------------+------+--------+------+-------------------+-------------------+-------------------+-------------------+------------------+------------------+-----------------+-------------------+-------------------+\n",
      "|Year|Participant Name|Division Rank|Gender Rank|Overall Rank|   Bib|Division|Points|          Swim Time|          Bike Time|           Run Time|       Overall Time|Swim Division Rank|Bike Division Rank|Run Division Rank|            T1 Time|            T2 Time|\n",
      "+----+----------------+-------------+-----------+------------+------+--------+------+-------------------+-------------------+-------------------+-------------------+------------------+------------------+-----------------+-------------------+-------------------+\n",
      "|2023|      Adam Feigh|           29|         50|          50|POINTS|      40|  MPRO|2023-09-26 00:53:21|2023-09-26 05:03:20|2023-09-26 03:27:35|2023-09-26 09:32:16|                32|                30|               29|2023-09-26 00:02:37|2023-09-26 00:05:23|\n",
      "+----+----------------+-------------+-----------+------------+------+--------+------+-------------------+-------------------+-------------------+-------------------+------------------+------------------+-----------------+-------------------+-------------------+\n",
      "\n"
     ]
    }
   ],
   "source": [
    "# Filter people based on some condition, first format\n",
    "dfSparkData.filter(\"Bib == 'POINTS'\").show()\n",
    "\n",
    "#  Alternatively, second format\n",
    "dfSparkData.filter(dfSparkData['Overall Rank'] == '50').show()"
   ]
  },
  {
   "cell_type": "markdown",
   "id": "a6a610fc",
   "metadata": {},
   "source": [
    "### Part 6: GroupBy and Aggregate Functions"
   ]
  },
  {
   "cell_type": "code",
   "execution_count": 80,
   "id": "872eb46b",
   "metadata": {},
   "outputs": [
    {
     "name": "stdout",
     "output_type": "stream",
     "text": [
      "+------+-----+\n",
      "|Points|count|\n",
      "+------+-----+\n",
      "|POINTS|    1|\n",
      "|M25-29|  124|\n",
      "|M50-54|  290|\n",
      "|M45-49|  282|\n",
      "|  MPRO|   32|\n",
      "|M30-34|  223|\n",
      "|M35-39|  266|\n",
      "|    HC|    1|\n",
      "|M70-74|    4|\n",
      "|M40-44|  315|\n",
      "|M75-79|    1|\n",
      "|M65-69|   36|\n",
      "|M55-59|  204|\n",
      "|M60-64|  104|\n",
      "|M18-24|   67|\n",
      "+------+-----+\n",
      "\n"
     ]
    }
   ],
   "source": [
    "# GroupBy Operations. This creates a \"group\" object, which can be called or used as an input for methods\n",
    "dfSparkData.groupBy('Participant Name')\n",
    "\n",
    "# Aggregates can be attached at the end of the groupBy method\n",
    "dfSparkData.groupBy('Points').count().show()"
   ]
  },
  {
   "cell_type": "markdown",
   "id": "5cde29dc",
   "metadata": {},
   "source": [
    "### Part 7: Prediction\n",
    "    "
   ]
  },
  {
   "cell_type": "markdown",
   "id": "d183f5c7",
   "metadata": {},
   "source": [
    "### Part 8: Streaming Data"
   ]
  },
  {
   "cell_type": "code",
   "execution_count": 14,
   "id": "82a9c332",
   "metadata": {},
   "outputs": [],
   "source": [
    "# Transforming the data (in this case, splitting lines of text into words)\n",
    "outputWords = inputSources.select(split(col(\"value\"), \"\\\\s\").alias(\"word\"))\n",
    "wordCount = outputWords.groupBy(\"word\").count()"
   ]
  }
 ],
 "metadata": {
  "kernelspec": {
   "display_name": "Python 3 (ipykernel)",
   "language": "python",
   "name": "python3"
  },
  "language_info": {
   "codemirror_mode": {
    "name": "ipython",
    "version": 3
   },
   "file_extension": ".py",
   "mimetype": "text/x-python",
   "name": "python",
   "nbconvert_exporter": "python",
   "pygments_lexer": "ipython3",
   "version": "3.10.4"
  }
 },
 "nbformat": 4,
 "nbformat_minor": 5
}
